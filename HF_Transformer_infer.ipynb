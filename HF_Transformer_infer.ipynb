{
  "nbformat": 4,
  "nbformat_minor": 0,
  "metadata": {
    "colab": {
      "provenance": []
    },
    "kernelspec": {
      "name": "python3",
      "display_name": "Python 3"
    },
    "language_info": {
      "name": "python"
    }
  },
  "cells": [
    {
      "cell_type": "code",
      "execution_count": null,
      "metadata": {
        "colab": {
          "base_uri": "https://localhost:8080/"
        },
        "id": "vBPFPtb2gYSY",
        "outputId": "0ff080bc-6725-484d-b6c3-998d273e9481"
      },
      "outputs": [
        {
          "output_type": "stream",
          "name": "stdout",
          "text": [
            "\u001b[2K     \u001b[90m━━━━━━━━━━━━━━━━━━━━━━━━━━━━━━━━━━━━━━━\u001b[0m \u001b[32m109.1/109.1 MB\u001b[0m \u001b[31m8.7 MB/s\u001b[0m eta \u001b[36m0:00:00\u001b[0m\n",
            "\u001b[?25h"
          ]
        }
      ],
      "source": [
        "# ! pip install transformers --quiet\n",
        "! pip install xformers --quiet"
      ]
    },
    {
      "cell_type": "code",
      "source": [
        "from transformers import pipeline\n",
        "generator = pipeline('text-generation', model = 'gpt2')"
      ],
      "metadata": {
        "id": "TY-B33PHgb12"
      },
      "execution_count": null,
      "outputs": []
    },
    {
      "cell_type": "code",
      "source": [
        "generator(\"Life is\", max_length = 30, num_return_sequences=3)"
      ],
      "metadata": {
        "colab": {
          "base_uri": "https://localhost:8080/"
        },
        "id": "UGY8WNCChHmM",
        "outputId": "1a8a6342-33db-4749-db21-f2d2665acc19"
      },
      "execution_count": null,
      "outputs": [
        {
          "output_type": "stream",
          "name": "stderr",
          "text": [
            "Setting `pad_token_id` to `eos_token_id`:50256 for open-end generation.\n"
          ]
        },
        {
          "output_type": "execute_result",
          "data": {
            "text/plain": [
              "[{'generated_text': 'Life is not always about doing all you can to make people happy, and you shouldn\\'t be doing either,\" she said.\\n\\n\"It\\'s'},\n",
              " {'generated_text': \"Life is a great time to start exploring the worlds we love most. Whether you're traveling or staying in the comfort of your own home, join us\"},\n",
              " {'generated_text': 'Life is the cause behind the great change in the world.\\n\\n\"Today, most people think of themselves as the heroes. In reality, they'}]"
            ]
          },
          "metadata": {},
          "execution_count": 4
        }
      ]
    }
  ]
}